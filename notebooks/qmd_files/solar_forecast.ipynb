{
 "cells": [
  {
   "cell_type": "markdown",
   "metadata": {},
   "source": [
    "# Solar energy forecast\n",
    "---"
   ]
  },
  {
   "cell_type": "markdown",
   "metadata": {},
   "source": [
    "### Import libraries\n",
    "\n",
    "Import libraries for data cleaning, statistics, machine learning and visualization"
   ]
  },
  {
   "cell_type": "code",
   "execution_count": null,
   "metadata": {},
   "outputs": [],
   "source": [
    "using Dates, DataFrames, Plots, StatsPlots, Statistics, Distributions, ConformalPrediction\n",
    "using StatsBase, HypothesisTests, LinearAlgebra, Random, MLJ, CSV, CategoricalArrays "
   ]
  },
  {
   "cell_type": "markdown",
   "metadata": {},
   "source": [
    "### Dataset \n",
    "\n",
    "Our data contains information on these key factors:\n",
    "\n",
    "+ **timedate**: date and hour of each datapoint\n",
    "+ **WindSpeed**: wind speed in Km/h \n",
    "+ **Sunshine**: minutes per hours that sun is not cover by clouds (scaled 0-60)\n",
    "+ **AirPressure**: athmosphere pressure in hPa\n",
    "+ **Radiation**: solar radiation W/m^2^\n",
    "+ **AirTemperature**: air temperature in Celsius\n",
    "+ **RelativeAirHumidity**: relative humidity (scaled 0-100)\n",
    "+ **SystemProduction**: system production kWh "
   ]
  },
  {
   "cell_type": "code",
   "execution_count": null,
   "metadata": {},
   "outputs": [],
   "source": [
    "DT = CSV.read(\"C:/Users/nicol/Documents/solar_1/Solar Power Plant Data.csv\", DataFrame);\n",
    "show(describe(DT),allcols = true)"
   ]
  },
  {
   "cell_type": "markdown",
   "metadata": {},
   "source": [
    "In the table above we don't have any real `missing` data but we can see some problematic values (like the negative values for solar radiation). We assume that each negative value of solar radiation is due to some data trasmission error so we set all the negative value equal to zero, in addition we parse the data related to the hour and date to `timedate` format"
   ]
  },
  {
   "cell_type": "code",
   "execution_count": null,
   "metadata": {},
   "outputs": [],
   "source": [
    "DT[DT.Radiation .< 0,:Radiation] .= 0.0;\n",
    "\n",
    "DT.day = parse.(Int64,chop.(DT[:,\"Date-Hour(NMT)\"], head = 0, tail = 14))\n",
    "DT.month = parse.(Int64,chop.(DT[:,\"Date-Hour(NMT)\"], head = 3, tail = 11))\n",
    "DT.hour = parse.(Int64,chop.(DT[:,\"Date-Hour(NMT)\"], head = 11, tail = 3));\n",
    "\n",
    "rename!(DT,\"Date-Hour(NMT)\" => \"timedate\");\n",
    "\n",
    "# Create column with right formatting\n",
    "DT.timedate_real = DateTime.(2017,DT.month,DT.day,DT.hour);\n",
    "DT.date_real = Date.(2017,DT.month,DT.day);"
   ]
  },
  {
   "cell_type": "markdown",
   "metadata": {},
   "source": [
    "Let's visualize the `SystemProduction` for each hour: "
   ]
  },
  {
   "cell_type": "code",
   "execution_count": null,
   "metadata": {},
   "outputs": [],
   "source": [
    "plot(DT.timedate_real, DT.SystemProduction, \n",
    "    title=\"Hourly production\", label= :none, size=(750,300))"
   ]
  },
  {
   "cell_type": "markdown",
   "metadata": {},
   "source": [
    "From the plot we notice that we have some multiple consecutive days where the production is zero (for example in Jan, May, Dec). It seems that instead of `missing` value we have some `zero` value when we don't have available data. We need to be very careful while performing the data cleaning because during the night the actual production of the solar panel is zero. Let's group by day and check the days with zero production  "
   ]
  },
  {
   "cell_type": "code",
   "execution_count": null,
   "metadata": {},
   "outputs": [],
   "source": [
    "df = groupby(DT, :date_real)\n",
    "dt = combine(df, \n",
    "             [\"SystemProduction\",\"WindSpeed\",\n",
    "             \"Sunshine\",\"AirPressure\",\n",
    "              \"Radiation\",\"AirTemperature\",\n",
    "              \"RelativeAirHumidity\",\"month\"] .=> [sum, mean, mean, \n",
    "                                                            mean, mean, mean, \n",
    "                                                            mean, mean]; \n",
    "    renamecols = true);\n",
    "sort!(dt,:date_real);\n",
    "\n",
    "p1 = scatter(dt.Radiation_mean, dt.SystemProduction_sum, title = \"Production vs Radiation (day)\", \n",
    "             label= :none)\n",
    "p1 = vline!([40], label= :none)\n",
    "p1 = hline!([1800], label= :none)\n",
    "p2 = scatter(DT.Radiation, DT.SystemProduction, title = \"Production vs Radiation (hour)\", \n",
    "             label= :none)\n",
    "\n",
    "plot(p1, p2, layout=(1,2), size=(750,300))"
   ]
  },
  {
   "cell_type": "markdown",
   "metadata": {},
   "source": [
    "From the plot is clear that we have some outlier where radiation is grater than 40 W/m^2^ and production is lower than 1800 kWh per day. Let's mark those days as *suspicious* and check if we have hour that can have some suspiciuos data, then compute the correlation between variables in the clean dataset"
   ]
  },
  {
   "cell_type": "code",
   "execution_count": null,
   "metadata": {},
   "outputs": [],
   "source": [
    "suspect_day = dt[(dt.Radiation_mean .> 40) .&& (dt.SystemProduction_sum .< 1800),:date_real]\n",
    "filter!([:date_real, :SystemProduction, :Radiation] => (x,y,z) -> x ∉ Ref(suspect_day) && \n",
    "        !(y == 0 && z > 40), DT)\n",
    "cor(Matrix(DT[:,2:8]))"
   ]
  },
  {
   "cell_type": "markdown",
   "metadata": {},
   "source": [
    "Last step before the machine learning model is to include the time into a numerical variable using **Cyclical Encoder**. This methods allow us to take into account the time cyclicity for months, days, hours"
   ]
  },
  {
   "cell_type": "code",
   "execution_count": null,
   "metadata": {},
   "outputs": [],
   "source": [
    "function cyclical_encoder(df::DataFrame, columns::Union{Array, Symbol}, max_val::Union{Array, Int} )\n",
    "    for (column, max) in zip(columns, max_val)        \n",
    "        df[:, Symbol(string(column) * \"_sin\")] = sin.(2*pi*df[:, column]/max)\n",
    "        df[:, Symbol(string(column) * \"_cos\")] = cos.(2*pi*df[:, column]/max)\n",
    "    end\n",
    "    return df\n",
    "end\n",
    "\n",
    "cyclical_encoder(DT, [\"day\",\"month\",\"hour\"], [31,12,23]);"
   ]
  },
  {
   "cell_type": "markdown",
   "metadata": {},
   "source": [
    "## Machine Learning\n",
    "\n",
    "EvoTrees is a regression algorithm in Julia library for creating gradient boosting regression models. It allows you to build decision trees efficiently, focusing on performance. EvoTrees works by combining multiple weaker decision trees into a stronger final model. It supports various loss functions specifically designed for regression tasks, which guide the training process and evaluate how well your model performs. The library utilizes histogram-based algorithms for faster data processing and can also handle different types of features within your data, including categorical ones. Overall, EvoTrees provides a versatile toolkit for building regression models in Julia using gradient boosting. \n",
    "\n",
    "Split the dataset in train and test considering only the hours with solar radiation grater than zero (exclude nights and evenings). We consider train from 01/01 to 06/30 and test from 07/01 to 12/31. We perform hourly estimation and then we group by day of the year. We include all the available variable into the model: "
   ]
  },
  {
   "cell_type": "code",
   "execution_count": null,
   "metadata": {},
   "outputs": [],
   "source": [
    "DT_model = DT[DT.Radiation .> 0.0,:]\n",
    "train, test = (collect(1:1828),collect(1829:3744));\n",
    "X = DT_model[:,vcat(2:7,14:19)];\n",
    "y = DT_model[:,:SystemProduction];"
   ]
  },
  {
   "cell_type": "markdown",
   "metadata": {},
   "source": [
    "We need to load the `EvoTreeRegressor` algorithm, set the parameters, create the machine and cross validate the model using 5-folds repeating the operation for 5 times"
   ]
  },
  {
   "cell_type": "code",
   "execution_count": null,
   "metadata": {},
   "outputs": [],
   "source": [
    "EvoTreeRegressor = MLJ.@load EvoTreeRegressor pkg=EvoTrees;\n",
    "et_regressor = EvoTreeRegressor(nbins = 32, max_depth = 10, nrounds = 200);\n",
    "\n",
    "model_glm = et_regressor;\n",
    "mach_glm = machine(model_glm, X, y); \n",
    "fit!(mach_glm, rows = train);\n",
    "\n",
    "# Cross-validation\n",
    "evaluate!(mach_glm, resampling = CV(nfolds=5, rng=1234), \n",
    "          repeats=5, measure = [rmse, rsquared], verbosity=0);"
   ]
  },
  {
   "cell_type": "markdown",
   "metadata": {},
   "source": [
    "### Results"
   ]
  },
  {
   "cell_type": "code",
   "execution_count": null,
   "metadata": {},
   "outputs": [],
   "source": [
    "DT_model.predicts = zeros(size(DT_model,1))        \n",
    "DT_model[test,:predicts] .= MLJ.predict(mach_glm, rows=test)\n",
    "histogram(MLJ.predict(mach_glm, rows=test))\n",
    "\n",
    "df = groupby(DT_model, :date_real)\n",
    "dt = combine(df, [\"SystemProduction\",\"predicts\"] .=> [sum, sum]; renamecols = true);\n",
    "sort!(dt,:date_real);\n",
    "dt = dt[dt.date_real .> Date.(2017,6,30),:]\n",
    "\n",
    "q2 = plot(dt[:,:date_real],dt[:,:SystemProduction_sum],  title = \"Actual vs Predict\", label = \"Actual\")\n",
    "q2 = plot!(dt[:,:date_real],dt[:,:predicts_sum], mc = :orange, label = \"Predict\")\n",
    "q1 = scatter(dt[:,:SystemProduction_sum],dt[:,:predicts_sum], title = \"Actual vs Predict\", label = :none)\n",
    "q1 = plot!(collect(0:59000),collect(0:59000), label = :none, mc = :red)\n",
    "\n",
    "\n",
    "plot(q1, q2, layout=(1,2), size=(750,300))"
   ]
  },
  {
   "cell_type": "code",
   "execution_count": null,
   "metadata": {},
   "outputs": [],
   "source": [
    "println(\"RMSE: \", string.(rmse(dt[:,:SystemProduction_sum],dt[:,:predicts_sum])))\n",
    "println(\"MAE: \", string.(mae(dt[:,:SystemProduction_sum],dt[:,:predicts_sum])))\n",
    "println(\"R²: \", string.(cor(dt[:,:SystemProduction_sum],dt[:,:predicts_sum]).^2))"
   ]
  }
 ],
 "metadata": {
  "kernelspec": {
   "display_name": "Julia 1.10.2",
   "language": "julia",
   "name": "julia-1.10"
  },
  "language_info": {
   "file_extension": ".jl",
   "mimetype": "application/julia",
   "name": "julia",
   "version": "1.10.2"
  }
 },
 "nbformat": 4,
 "nbformat_minor": 2
}
